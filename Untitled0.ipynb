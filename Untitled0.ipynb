{
  "nbformat": 4,
  "nbformat_minor": 0,
  "metadata": {
    "colab": {
      "provenance": [],
      "authorship_tag": "ABX9TyMhkiSUx2qwotxnmGax1z+O",
      "include_colab_link": true
    },
    "kernelspec": {
      "name": "python3",
      "display_name": "Python 3"
    },
    "language_info": {
      "name": "python"
    }
  },
  "cells": [
    {
      "cell_type": "markdown",
      "metadata": {
        "id": "view-in-github",
        "colab_type": "text"
      },
      "source": [
        "<a href=\"https://colab.research.google.com/github/dakshkhanna9011/Daksh-s-portfolio/blob/main/Untitled0.ipynb\" target=\"_parent\"><img src=\"https://colab.research.google.com/assets/colab-badge.svg\" alt=\"Open In Colab\"/></a>"
      ]
    },
    {
      "cell_type": "code",
      "execution_count": 2,
      "metadata": {
        "colab": {
          "base_uri": "https://localhost:8080/"
        },
        "id": "aGAI77NJVqPt",
        "outputId": "cd3af2bf-04b3-4077-8d6c-a50675172ca7"
      },
      "outputs": [
        {
          "output_type": "stream",
          "name": "stdout",
          "text": [
            "Enter student name: daksh\n",
            "Enter roll number: 1421\n",
            "Enter marks for Maths (out of 100): 65\n",
            "Enter marks for Science (out of 100): 31\n",
            "Enter marks for English (out of 100): 90\n",
            "Enter marks for Computer (out of 100): 55\n",
            "Enter marks for History (out of 100): 82\n",
            "\n",
            "----- Student Report Card -----\n",
            "Name       : daksh\n",
            "Roll No.   : 1421\n",
            "Subjects and Marks:\n",
            "  Maths : 65\n",
            "  Science : 31\n",
            "  English : 90\n",
            "  Computer : 55\n",
            "  History : 82\n",
            "Total Marks: 323\n",
            "Average    : 64.60\n",
            "Grade      : C\n",
            "-------------------------------\n"
          ]
        }
      ],
      "source": [
        "# Student Grade Calculator Project\n",
        "\n",
        "def calculate_grade(avg):\n",
        "    if avg >= 90:\n",
        "        return \"A+\"\n",
        "    elif avg >= 80:\n",
        "        return \"A\"\n",
        "    elif avg >= 70:\n",
        "        return \"B\"\n",
        "    elif avg >= 60:\n",
        "        return \"C\"\n",
        "    elif avg >= 50:\n",
        "        return \"D\"\n",
        "    else:\n",
        "        return \"F\"\n",
        "\n",
        "# Take input\n",
        "name = input(\"Enter student name: \")\n",
        "roll_no = input(\"Enter roll number: \")\n",
        "\n",
        "# Marks input\n",
        "marks = []\n",
        "subjects = [\"Maths\", \"Science\", \"English\", \"Computer\", \"History\"]\n",
        "\n",
        "for subject in subjects:\n",
        "    score = int(input(f\"Enter marks for {subject} (out of 100): \"))\n",
        "    marks.append(score)\n",
        "\n",
        "# Calculations\n",
        "total = sum(marks)\n",
        "average = total / len(marks)\n",
        "grade = calculate_grade(average)\n",
        "\n",
        "# Output\n",
        "print(\"\\n----- Student Report Card -----\")\n",
        "print(f\"Name       : {name}\")\n",
        "print(f\"Roll No.   : {roll_no}\")\n",
        "print(\"Subjects and Marks:\")\n",
        "for i in range(len(subjects)):\n",
        "    print(f\"  {subjects[i]} : {marks[i]}\")\n",
        "print(f\"Total Marks: {total}\")\n",
        "print(f\"Average    : {average:.2f}\")\n",
        "print(f\"Grade      : {grade}\")\n",
        "print(\"-------------------------------\")\n"
      ]
    }
  ]
}